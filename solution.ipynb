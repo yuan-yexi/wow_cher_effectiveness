{
 "cells": [
  {
   "cell_type": "code",
   "execution_count": 1,
   "metadata": {},
   "outputs": [
    {
     "name": "stdout",
     "output_type": "stream",
     "text": [
      "env: GOOGLE_APPLICATION_CREDENTIALS=/home/yexi/interview_questions/ntuc_iowa_liquor/bq_sql_key.json\n",
      "/home/yexi/interview_questions/ntuc_iowa_liquor/bq_sql_key.json\n"
     ]
    }
   ],
   "source": [
    "# Set environmental variables with google service credentials\n",
    "import os\n",
    "%env GOOGLE_APPLICATION_CREDENTIALS=/home/yexi/interview_questions/ntuc_iowa_liquor/bq_sql_key.json\n",
    "print(os.getenv('GOOGLE_APPLICATION_CREDENTIALS'))"
   ]
  },
  {
   "cell_type": "code",
   "execution_count": 67,
   "metadata": {},
   "outputs": [],
   "source": [
    "# import necessary libraries for analysis\n",
    "import pandas as pd\n",
    "import numpy as np\n",
    "from scipy.stats import norm, t\n",
    "from statsmodels.stats.weightstats import ztest\n",
    "import matplotlib.pyplot as plt\n",
    "import seaborn as sns\n",
    "import warnings\n",
    "warnings.filterwarnings('ignore')\n",
    "\n",
    "from google.cloud import bigquery\n",
    "\n",
    "bqclient = bigquery.Client()"
   ]
  },
  {
   "cell_type": "code",
   "execution_count": 3,
   "metadata": {},
   "outputs": [
    {
     "name": "stdout",
     "output_type": "stream",
     "text": [
      "[]\n"
     ]
    }
   ],
   "source": [
    "# Test BQ Connect\n",
    "def implicit():\n",
    "    from google.cloud import storage\n",
    "\n",
    "    # If you don't specify credentials when constructing the client, the\n",
    "    # client library will look for credentials in the environment.\n",
    "    storage_client = storage.Client()\n",
    "\n",
    "    # Make an authenticated API request\n",
    "    buckets = list(storage_client.list_buckets())\n",
    "    print(buckets)\n",
    "\n",
    "implicit()"
   ]
  },
  {
   "cell_type": "code",
   "execution_count": 10,
   "metadata": {},
   "outputs": [],
   "source": [
    "# Download query results.\n",
    "survey_after_action_event = \"\"\"\n",
    "WITH survey_after_event_voucher AS\n",
    "(\n",
    "    SELECT\n",
    "        events.customer_id AS customer_id,\n",
    "        event_ts,\n",
    "        country,\n",
    "        survey_response_ts,\n",
    "        action_type,\n",
    "        survey_rating\n",
    "    FROM `bq-sql-practice.foodpanda_interview.events` AS events\n",
    "    LEFT JOIN `bq-sql-practice.foodpanda_interview.customer_surveys` AS surveys\n",
    "        ON events.customer_id = surveys.customer_id\n",
    "    WHERE survey_response_ts > event_ts\n",
    ")\n",
    "SELECT \n",
    "    customer_id,\n",
    "    action_type,\n",
    "    CAST(DATE_TRUNC(survey_response_ts, day) AS date) AS survey_response_date,\n",
    "    CAST(DATE_TRUNC(event_ts, day) AS date) AS event_date,\n",
    "    DATE_DIFF(CAST(DATE_TRUNC(survey_response_ts, day) AS date), CAST(DATE_TRUNC(event_ts, day) AS date), day) AS days_diff,\n",
    "    survey_rating,\n",
    "    country\n",
    "FROM survey_after_event_voucher\n",
    "\"\"\"\n",
    "\n",
    "survey_after_action_event = (\n",
    "    bqclient.query(survey_after_action_event)\n",
    "    .result()\n",
    "    .to_dataframe(\n",
    "        create_bqstorage_client=True,\n",
    "    )\n",
    ")"
   ]
  },
  {
   "cell_type": "markdown",
   "metadata": {},
   "source": [
    "# Hypothesis Testing\n",
    "### Null Hypothesis: those users that received a voucher after >30mins of delay on their order will provide a better avg rating than those that did not receive anything\n",
    "### Alternative Hypothesis: there is no difference in avg rating between those that receive the vouchers after >30mins of delay on their order and those that did not receive anything"
   ]
  },
  {
   "cell_type": "code",
   "execution_count": 13,
   "metadata": {},
   "outputs": [
    {
     "data": {
      "text/plain": [
       "action_type\n",
       "absolute_voucher    0.605909\n",
       "no_action           0.543718\n",
       "Name: survey_rating, dtype: float64"
      ]
     },
     "execution_count": 13,
     "metadata": {},
     "output_type": "execute_result"
    }
   ],
   "source": [
    "# Initial inspection of avg rating between the 2 groups\n",
    "# We can see that those that received the voucher has an avg rating of 0.61 vs 0.54 of the control group (no action)\n",
    "survey_after_action_event.groupby('action_type')['survey_rating'].mean()"
   ]
  },
  {
   "cell_type": "code",
   "execution_count": 23,
   "metadata": {},
   "outputs": [
    {
     "name": "stdout",
     "output_type": "stream",
     "text": [
      "Treatment Group Sample Size: 14791\n",
      "Control Group Sample Size: 27689\n"
     ]
    }
   ],
   "source": [
    "# Create 2 samples for treatment (voucher) vs control group (no action)\n",
    "abs_voucher = survey_after_action_event[survey_after_action_event['action_type'] == 'absolute_voucher']['survey_rating'].to_list()\n",
    "no_action = survey_after_action_event[survey_after_action_event['action_type'] == 'no_action']['survey_rating'].to_list()\n",
    "\n",
    "print(f\"Treatment Group Sample Size: {len(abs_voucher)}\")\n",
    "print(f\"Control Group Sample Size: {len(no_action)}\")"
   ]
  },
  {
   "cell_type": "code",
   "execution_count": 44,
   "metadata": {},
   "outputs": [],
   "source": [
    "# Store the sample sizes of the treatment and control groups\n",
    "abs_voucher_size = len(abs_voucher)\n",
    "no_action_size = len(no_action)\n",
    "\n",
    "# Store the means of the treatment and control groups\n",
    "abs_voucher_mean = np.mean(abs_voucher)\n",
    "no_action_mean = np.mean(no_action)\n",
    "\n",
    "# Store the std dev of the treatment and control groups\n",
    "abs_voucher_std_dev = np.std(abs_voucher, ddof=1)\n",
    "no_action_std_dev = np.std(no_action, ddof=1)\n",
    "\n",
    "# z_left and z_right values @95% confident level\n",
    "z_left = norm.ppf(0.025)\n",
    "z_right = norm.ppf(0.975)\n",
    "\n",
    "# Measure lower and upper bound CI\n",
    "abs_voucher_lower_bound = abs_voucher_mean + (z_left * (abs_voucher_std_dev / np.sqrt(abs_voucher_size)))\n",
    "abs_voucher_upper_bound = abs_voucher_mean + (z_right * (abs_voucher_std_dev / np.sqrt(abs_voucher_size)))\n",
    "\n",
    "no_action_lower_bound = no_action_mean + (z_left * (no_action_std_dev / np.sqrt(no_action_size)))\n",
    "no_action_upper_bound = no_action_mean + (z_right * (no_action_std_dev / np.sqrt(no_action_size)))"
   ]
  },
  {
   "cell_type": "code",
   "execution_count": 55,
   "metadata": {},
   "outputs": [
    {
     "name": "stdout",
     "output_type": "stream",
     "text": [
      "====Treatment Group: CI @95%====\n",
      "Mean: 0.606, CI:[0.598, 0.614]\n",
      "====Control Group: CI @95%====\n",
      "Mean: 0.544, CI:[0.538, 0.55]\n"
     ]
    }
   ],
   "source": [
    "# Print our confidence intervals for both our treatment and control groups\n",
    "print(\"====Treatment Group: CI @95%====\")\n",
    "print(f\"Mean: {round(abs_voucher_mean, 3)}, CI:[{round(abs_voucher_lower_bound, 3)}, {round(abs_voucher_upper_bound, 3)}]\")\n",
    "print(\"====Control Group: CI @95%====\")\n",
    "print(f\"Mean: {round(no_action_mean, 3)}, CI:[{round(no_action_lower_bound, 3)}, {round(no_action_upper_bound, 3)}]\")"
   ]
  },
  {
   "cell_type": "code",
   "execution_count": 89,
   "metadata": {},
   "outputs": [
    {
     "name": "stdout",
     "output_type": "stream",
     "text": [
      "The voucher treatment is statistically significant at the 95% confidence level and we fail to reject H0.\n"
     ]
    }
   ],
   "source": [
    "# Using the z-test to test if the difference in mean is statistically significant\n",
    "z_value, p_value = ztest(abs_voucher, no_action)\n",
    "\n",
    "# Test at 95% confidence\n",
    "if p_value < 0.05 or p_value > 0.95:\n",
    "    print(\"The voucher treatment is statistically significant at the 95% confidence level and we fail to reject H0.\")\n",
    "else:\n",
    "    print(\"The voucher treatment is not statistically significant at the 95% confidence level and we reject H0.\")"
   ]
  }
 ],
 "metadata": {
  "interpreter": {
   "hash": "d47928b1567cc4e6de58b059c76f1b330b3d85725bb8fdaee84a2d8bfc7a412a"
  },
  "kernelspec": {
   "display_name": "Python 3.8.10 64-bit ('env': venv)",
   "name": "python3"
  },
  "language_info": {
   "codemirror_mode": {
    "name": "ipython",
    "version": 3
   },
   "file_extension": ".py",
   "mimetype": "text/x-python",
   "name": "python",
   "nbconvert_exporter": "python",
   "pygments_lexer": "ipython3",
   "version": "3.8.10"
  },
  "orig_nbformat": 4
 },
 "nbformat": 4,
 "nbformat_minor": 2
}
